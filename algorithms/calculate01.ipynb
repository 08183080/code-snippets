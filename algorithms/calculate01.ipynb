{
 "cells": [
  {
   "cell_type": "markdown",
   "metadata": {},
   "source": [
    "# 问题"
   ]
  },
  {
   "cell_type": "markdown",
   "metadata": {},
   "source": [
    "输入是某个 01 串。比如说 \"000101\"，我们需要统计串中的 \"01\"个数，0 和 1不需要紧挨着的。\n",
    "\n",
    "比如说示例中有 7 个 \"01\""
   ]
  },
  {
   "cell_type": "code",
   "execution_count": 4,
   "metadata": {},
   "outputs": [],
   "source": [
    "# O(n^2)\n",
    "def calculate01(s):\n",
    "    n = len(s)\n",
    "    cnt = 0\n",
    "\n",
    "    for i in range(n):\n",
    "        if s[i] == '0':\n",
    "            for j in range(i + 1, n):\n",
    "                if s[j] == '1':\n",
    "                    cnt += 1\n",
    "\n",
    "    return cnt"
   ]
  },
  {
   "cell_type": "code",
   "execution_count": 16,
   "metadata": {},
   "outputs": [],
   "source": [
    "# O(n) dp\n",
    "def calculate01(s):\n",
    "    n = len(s)\n",
    "    dp = [0] * n\n",
    "    cnt = 0\n",
    "\n",
    "    for i in range(n):\n",
    "        if i == 0:\n",
    "            dp[i] = 0\n",
    "        elif s[i-1] == '0':\n",
    "            dp[i] = dp[i - 1] + 1\n",
    "        else:\n",
    "            dp[i] = dp[i - 1]\n",
    "        \n",
    "        if s[i] == '1':\n",
    "            cnt += dp[i]\n",
    "    \n",
    "    return cnt"
   ]
  },
  {
   "cell_type": "code",
   "execution_count": 17,
   "metadata": {},
   "outputs": [
    {
     "name": "stdout",
     "output_type": "stream",
     "text": [
      "7\n"
     ]
    }
   ],
   "source": [
    "s = '000101'\n",
    "ans = calculate01(s)\n",
    "print(ans)"
   ]
  }
 ],
 "metadata": {
  "kernelspec": {
   "display_name": "Python 3",
   "language": "python",
   "name": "python3"
  },
  "language_info": {
   "codemirror_mode": {
    "name": "ipython",
    "version": 3
   },
   "file_extension": ".py",
   "mimetype": "text/x-python",
   "name": "python",
   "nbconvert_exporter": "python",
   "pygments_lexer": "ipython3",
   "version": "3.10.2"
  }
 },
 "nbformat": 4,
 "nbformat_minor": 2
}
